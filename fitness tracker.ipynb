{
 "cells": [
  {
   "cell_type": "code",
   "execution_count": 1,
   "id": "e78c4f44-fbeb-4cb2-9be6-2c84b6e211af",
   "metadata": {},
   "outputs": [
    {
     "name": "stdout",
     "output_type": "stream",
     "text": [
      "Requirement already satisfied: matplotlib in c:\\users\\swapn\\appdata\\local\\programs\\python\\python313\\lib\\site-packages (3.10.1)Note: you may need to restart the kernel to use updated packages.\n",
      "\n",
      "Requirement already satisfied: pandas in c:\\users\\swapn\\appdata\\local\\programs\\python\\python313\\lib\\site-packages (2.2.3)\n"
     ]
    },
    {
     "name": "stderr",
     "output_type": "stream",
     "text": [
      "ERROR: Could not find a version that satisfies the requirement sqlite3 (from versions: none)\n",
      "\n",
      "[notice] A new release of pip is available: 24.3.1 -> 25.0.1\n",
      "[notice] To update, run: python.exe -m pip install --upgrade pip\n",
      "ERROR: No matching distribution found for sqlite3\n"
     ]
    }
   ],
   "source": [
    "pip install matplotlib pandas sqlite3\n"
   ]
  },
  {
   "cell_type": "code",
   "execution_count": 2,
   "id": "14106412-634f-4b9d-aec2-a539549b46ed",
   "metadata": {},
   "outputs": [],
   "source": [
    "import sqlite3\n",
    "\n",
    "conn = sqlite3.connect('fitness_tracker.db')\n",
    "cursor = conn.cursor()\n",
    "\n",
    "cursor.execute('''CREATE TABLE IF NOT EXISTS users (\n",
    "                  id INTEGER PRIMARY KEY,\n",
    "                  username TEXT UNIQUE,\n",
    "                  password TEXT)''')\n",
    "\n",
    "cursor.execute('''CREATE TABLE IF NOT EXISTS workouts (\n",
    "                  id INTEGER PRIMARY KEY,\n",
    "                  user_id INTEGER,\n",
    "                  date TEXT,\n",
    "                  exercise TEXT,\n",
    "                  duration INTEGER,\n",
    "                  calories INTEGER,\n",
    "                  FOREIGN KEY(user_id) REFERENCES users(id))''')\n",
    "\n",
    "conn.commit()\n",
    "conn.close()\n"
   ]
  },
  {
   "cell_type": "code",
   "execution_count": 3,
   "id": "cb5f85c1-3eb7-4c7b-b056-7c0563354919",
   "metadata": {},
   "outputs": [],
   "source": [
    "def register_user(username, password):\n",
    "    conn = sqlite3.connect('fitness_tracker.db')\n",
    "    cursor = conn.cursor()\n",
    "    try:\n",
    "        cursor.execute(\"INSERT INTO users (username, password) VALUES (?, ?)\", (username, password))\n",
    "        conn.commit()\n",
    "        print(\"User registered successfully!\")\n",
    "    except sqlite3.IntegrityError:\n",
    "        print(\"Username already exists!\")\n",
    "    conn.close()\n"
   ]
  },
  {
   "cell_type": "code",
   "execution_count": 4,
   "id": "0288e00e-33bd-46de-aaaf-eb951b4de545",
   "metadata": {},
   "outputs": [],
   "source": [
    "def log_workout(user_id, date, exercise, duration, calories):\n",
    "    conn = sqlite3.connect('fitness_tracker.db')\n",
    "    cursor = conn.cursor()\n",
    "    cursor.execute(\"INSERT INTO workouts (user_id, date, exercise, duration, calories) VALUES (?, ?, ?, ?, ?)\",\n",
    "                   (user_id, date, exercise, duration, calories))\n",
    "    conn.commit()\n",
    "    print(\"Workout logged successfully!\")\n",
    "    conn.close()\n"
   ]
  },
  {
   "cell_type": "code",
   "execution_count": 5,
   "id": "c7b1e175-5a03-4a09-9737-cf06eac60803",
   "metadata": {},
   "outputs": [
    {
     "name": "stderr",
     "output_type": "stream",
     "text": [
      "Matplotlib is building the font cache; this may take a moment.\n"
     ]
    }
   ],
   "source": [
    "import matplotlib.pyplot as plt\n",
    "import pandas as pd\n",
    "\n",
    "def show_progress(user_id):\n",
    "    conn = sqlite3.connect('fitness_tracker.db')\n",
    "    df = pd.read_sql_query(f\"SELECT date, calories FROM workouts WHERE user_id={user_id}\", conn)\n",
    "    conn.close()\n",
    "    \n",
    "    if df.empty:\n",
    "        print(\"No data found.\")\n",
    "        return\n",
    "\n",
    "    plt.plot(df['date'], df['calories'], marker='o', linestyle='-')\n",
    "    plt.xlabel(\"Date\")\n",
    "    plt.ylabel(\"Calories Burned\")\n",
    "    plt.title(\"Calories Burned Over Time\")\n",
    "    plt.xticks(rotation=45)\n",
    "    plt.show()\n"
   ]
  },
  {
   "cell_type": "code",
   "execution_count": null,
   "id": "fe68964b-271b-4c29-ab85-7b95498eaa20",
   "metadata": {},
   "outputs": [],
   "source": []
  }
 ],
 "metadata": {
  "kernelspec": {
   "display_name": "Python 3 (ipykernel)",
   "language": "python",
   "name": "python3"
  },
  "language_info": {
   "codemirror_mode": {
    "name": "ipython",
    "version": 3
   },
   "file_extension": ".py",
   "mimetype": "text/x-python",
   "name": "python",
   "nbconvert_exporter": "python",
   "pygments_lexer": "ipython3",
   "version": "3.13.2"
  }
 },
 "nbformat": 4,
 "nbformat_minor": 5
}
